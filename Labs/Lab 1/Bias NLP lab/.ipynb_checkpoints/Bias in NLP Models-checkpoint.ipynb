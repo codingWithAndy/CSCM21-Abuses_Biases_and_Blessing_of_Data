{
 "cells": [
  {
   "cell_type": "markdown",
   "metadata": {},
   "source": [
    "# Investigating and Correcting Bias in NLP Models\n",
    "\n",
    "Welcome to the Investigating and correcting bias in word vectors for NLP models, an assignment of CSCM21 (Abuses Bias and Blessings of Data) delivered by Dr Matt Roach. Here you will gain experience in using investigating and correcting bias in algorithms. Specifically in this lab we will look at a method of converting unstructured text into numerical representations (vectors) that also embed semantic understanding into the numerical feature space. This is commonly known as word2vec, and used in many computational Natural Language Processing (NLP) tasks, such as: text prediction, document topic classification, language translation and many more.\n",
    "\n",
    "State of the art performance in NLP research has recently seen a transition of focus from rule-based or word-frequency probabilistic models to probabilistic models based on word-vector representations within the last decade. These types of models have made great strides in our ability to learn semantic relationships between words allowing for much richer modelling of natural language that has been possible with rule-based and word-frequency based approaches. One such example is the 'GloVe' word embeddings by Pennington <i> et al</i> [1], in this lab we will be using a word embedding model trained with the GloVe method.\n",
    "    \n",
    "Moreover, the world has seen a growth in large pre-trained models based on this new breed of NLP algorithms, and as such, there is a real danger that developer could adopt and embed these models in software products and services without being aware of the possible unintended consequences. You will be taking a look at how you might detect bias in word vector models and a method we could use to de-bias the model post-training presented by Bolukbasi <i>et al.</i> in titled <i>\"Man is to Computer Programmer as Woman is to Homemaker? Debiasing Word Embeddings\"</i> [2]\n",
    "\n",
    "\n",
    "[1] J. Pennington, R. Socher, and C. D. Manning, “GloVe: Global vectors for word representation,” in EMNLP 2014  Conference on Empirical Methods in Natural Language Processing, Proceedings of the Conference, 2014 [Link to Paper](https://nlp.stanford.edu/projects/glove/).\n",
    "\n",
    "\n",
    "[2] T. Bolukbasi, K.-W. Chang, J. Zou, V. Saligrama, and A. Kalai, “Man is to Computer Programmer as Woman is to Homemaker? Debiasing Word Embeddings,” Jul. 2016.[Link to Paper](https://papers.nips.cc/paper/6228-man-is-to-computer-programmer-as-woman-is-to-homemaker-debiasing-word-embeddings.pdf).\n",
    "\n",
    "[3] This workbook is an based on one created by Andrew Ng and reuses some material with thanks.\n",
    "\n",
    "## Learning Objectives:\n",
    "\n",
    "- Investigate word similarity a pre-trained word embedding model.\n",
    "- Use word embeddings to solve word analogy problems.\n",
    "- Design counter factual word analogies to detect bias in the word embedding model.\n",
    "- Modify the word embedding model to reduce its gender bias.\n",
    "- Critically reflect on the effectiveness and limitations of the de-bais methods used.\n",
    "\n",
    "Run the following cell to load the packages you will need."
   ]
  },
  {
   "cell_type": "code",
   "execution_count": 1,
   "metadata": {},
   "outputs": [
    {
     "name": "stdout",
     "output_type": "stream",
     "text": [
      "Python version: 3.7.4\n",
      "Python path: /Users/Andy/opt/anaconda3/bin/python\n",
      "Working Directory: /Users/Andy/Developer/Swansea Uni/CDT/Semester 2/CSCM21 - Abuses, Biases and Blessing of Data/CSCM21 - Abuses, Biases and Blessing of Data/Labs/Lab 1/Bias NLP lab\n",
      "TensorFlow version: 2.3.1\n"
     ]
    }
   ],
   "source": [
    "import sys\n",
    "import os\n",
    "import tensorflow as tf\n",
    "from platform import python_version \n",
    "\n",
    "#------------- Load in some helpful packages we will use for the lab -------------------------\n",
    "\n",
    "import numpy as np\n",
    "from w2v_utils import * # included in the lab download file.\n",
    "import matplotlib.pyplot as plt\n",
    "import matplotlib.cm as cm\n",
    "from sklearn.manifold import TSNE\n",
    "\n",
    "\n",
    "#------------- Print versions an paths for potencial debugging -------------------------\n",
    "\n",
    "print('Python version:', python_version()) # print the version of python the script is using\n",
    "print('Python path:', sys.executable) # print the path for the python executable the script is using\n",
    "print('Working Directory:', os.getcwd()) # print the current working directory \n",
    "print (\"TensorFlow version: \" + tf.__version__) # print the tensorflow version\n"
   ]
  },
  {
   "cell_type": "markdown",
   "metadata": {},
   "source": [
    "# 1. Vectorised Word Embeddings Models\n",
    "\n",
    "A reminder from work covered in the lecture, word vectors are generated using supervised training in the form of an auto-encoder.\n",
    "\n",
    "<center><img src=\"images/w2v.png\" width=\"800px\"/></center>\n",
    "\n",
    "<caption><center> <b>Figure</b> 1:  Word2Vec is a 3 layer architecture, with an input layer size equal to the size of the vocabulary, hidden layer of size of the embedding vector (typically 200-300 in this lab we will use a model based on 50) and output size again equal to the vocab size.</center></caption>\n",
    "  \n",
    "The input to the network is a 1-hot vector (a vector which all values are 0 except the value corresponding to the input word). This essentially acts as a mask on the embedding space, so that only the input word outputs nonzero activations from the embedding space through to the output layer. The output layer then predicts expected word based on the input words. The training objective function is a simple measure of the prediction performance. For the workbook we will work on the word embeddings - that are the outputs of the hidden layer from above, for each word - post training.\n"
   ]
  },
  {
   "cell_type": "markdown",
   "metadata": {},
   "source": [
    "## 1.1 Load the Word Embedding Vectors. \n",
    "\n",
    "In this section, we will use 50-dimensional GloVe vectors to represent words.  We will not need to train the model or infact generate the vectors for each word this part has already been done. \n",
    "\n",
    "In the following line of code we will load a file \"glove.6B.50d.txt\" and stores the contents in python variables `word_to_vec_map` and `words`."
   ]
  },
  {
   "cell_type": "code",
   "execution_count": 2,
   "metadata": {},
   "outputs": [],
   "source": [
    "words, word_to_vec_map = read_glove_vecs('data/glove.6B.50d.txt')"
   ]
  },
  {
   "cell_type": "markdown",
   "metadata": {},
   "source": [
    "Above you have loaded:\n",
    "- `words`: set of words in the vocabulary.\n",
    "- `word_to_vec_map`: a python dictionary that contains the word GloVe vector representation for each word.\n",
    " - note the index to retrieve a single word vector from `word_to_vec_map` is the word itself i.e. to get the vector for mother you can use the syntax `word_to_vec_map[mother]`.\n",
    "\n",
    "Lets take a look at the loaded sets of words and word vectors in the cell below investigate words that are in the models and take a look at their word vectors. \n",
    "\n",
    "**You need to:**\n",
    "- find out the number of words in our vocabulary, i.e. print the number of elements (words) in `words`. Hint use `len`.\n",
    "- print the vector for the word \"farther\".\n",
    "- investigate the word vector for a small number (approx. 5) of different words. \n",
    " - Note print each example to the note book (don't overwrite, in order to present examples of your exploration)."
   ]
  },
  {
   "cell_type": "code",
   "execution_count": 3,
   "metadata": {},
   "outputs": [
    {
     "name": "stdout",
     "output_type": "stream",
     "text": [
      "400000\n"
     ]
    }
   ],
   "source": [
    "### START CODE ###\n",
    "num_words = len(words)\n",
    "print(num_words)\n",
    "### END CODE ###"
   ]
  },
  {
   "cell_type": "code",
   "execution_count": 4,
   "metadata": {},
   "outputs": [
    {
     "name": "stdout",
     "output_type": "stream",
     "text": [
      "[ 0.65338  -0.14625   0.93624  -0.73517  -0.38775  -0.90923  -0.55232\n",
      "  0.59915   0.17342  -0.47719  -0.084622 -0.6362    0.38348  -0.13254\n",
      " -0.78211   1.2288    0.60502  -0.31814  -0.57447  -0.43852  -0.47114\n",
      " -0.15508   0.45849   0.61213   0.93223  -0.72684   0.21884   0.82957\n",
      "  1.2051   -0.73753   1.9672    0.42015   0.4973   -0.13252   0.15595\n",
      " -0.59648  -0.95311   0.29786  -0.37615   0.49719  -0.61574   0.17039\n",
      "  0.9025    0.085839 -0.8046    0.055388  0.91576  -0.91989  -0.92891\n",
      " -0.40544 ]\n",
      "[ 0.4336     1.0727    -0.6196    -0.80679    1.2519     1.3767\n",
      " -0.93533    0.76088   -0.0056654 -0.063649   0.30297    0.52401\n",
      "  0.2843    -0.38162    0.98797    0.093184  -1.1464     0.070523\n",
      "  0.58012    0.50644   -0.24026    1.7344     0.020735   0.43704\n",
      "  1.2148    -2.2483    -0.41168   -0.24922    0.31225   -0.49464\n",
      "  2.0441    -0.012111  -0.19556    0.085665   0.27682    0.015702\n",
      "  0.0067683  0.12759    0.87008   -0.40641   -0.21057    0.41651\n",
      " -0.021812  -0.53649    0.54095   -0.43442   -0.52489   -2.0277\n",
      "  0.13136    0.11704  ]\n",
      "[ 7.3844e-01  1.2935e+00 -1.1455e-02  9.2898e-02  5.7597e-01  1.2912e+00\n",
      " -1.0506e+00  5.7835e-01 -1.4364e-01 -4.6163e-01  4.8305e-01  5.5707e-01\n",
      " -3.2888e-01 -1.9178e-01  3.1023e-01  7.9763e-02 -1.2981e+00  1.8495e-01\n",
      "  5.2382e-01  6.6812e-01 -7.5753e-02  1.4345e+00  1.8940e-01  9.8617e-01\n",
      "  6.7427e-01 -1.4132e+00 -3.3093e-01 -3.6307e-01 -1.4782e-01 -6.1211e-01\n",
      "  1.7107e+00  1.7398e-01  2.3408e-01  2.6432e-02  1.5820e-01 -5.0177e-01\n",
      " -3.7997e-02 -6.3127e-04  2.8831e-01 -5.7345e-01  1.3439e-01  2.2880e-02\n",
      "  6.9726e-02 -9.6704e-01  1.4316e-01 -2.6588e-01 -6.3387e-01 -2.0158e+00\n",
      "  2.4152e-02  5.9217e-01]\n",
      "[ 0.37648   1.2426   -0.39739  -0.53184   1.187     1.5091   -0.84171\n",
      "  0.67881  -0.25809  -0.47984   0.17823   0.74667  -0.13473  -0.92361\n",
      "  0.95622   0.20569  -1.2239   -0.055043  0.56182   0.78077  -0.04409\n",
      "  1.5692   -0.066821  0.2514    1.0403   -2.1412   -0.31986  -0.77169\n",
      " -0.029177  0.047146  1.4145   -0.23272  -0.34426   0.22699   0.88573\n",
      " -0.20184  -0.15168   0.3621    0.6495   -0.68719  -0.068208  0.53595\n",
      " -0.15289  -0.90156   0.38965  -0.523    -0.32187  -2.4262    0.30053\n",
      "  0.33888 ]\n",
      "[ 0.2771    0.97784  -0.1447   -0.48693   1.1714    0.67133  -0.86157\n",
      "  0.63143  -0.98881  -0.11358   0.2246    1.2442   -0.59939  -1.0432\n",
      "  0.67863  -0.10454  -0.62641   0.17461  -0.1696    0.95344  -0.46932\n",
      "  0.89562  -0.30832   0.10274   0.80234  -2.4357   -0.47613  -1.2526\n",
      "  0.1124    0.45486   1.7478   -0.45626  -0.63565   0.56231   1.0432\n",
      "  0.063764  0.10414   0.21323   0.56448   0.11494  -0.032541  0.75053\n",
      " -0.71651  -0.50863   0.52775  -0.51207  -0.72506  -1.8436    0.38052\n",
      "  0.36673 ]\n",
      "[ 3.8241e-01  5.6538e-01  1.7174e-01 -3.2832e-01  1.1811e+00  6.4141e-01\n",
      " -7.5489e-01  7.6061e-01 -8.4549e-01  6.7996e-02  4.0488e-01  1.3168e+00\n",
      " -1.0390e+00 -3.6122e-01  7.4153e-01 -2.0821e-01 -4.6036e-01  3.0236e-02\n",
      " -2.3020e-01  5.9638e-01 -4.8645e-01  6.9894e-01  1.6648e-01  2.1533e-01\n",
      "  2.5180e-01 -2.0648e+00 -2.0365e-01 -1.1691e+00 -1.2630e-01  1.6450e-01\n",
      "  1.5242e+00 -3.2779e-01 -4.2933e-01 -1.1819e-01  7.7706e-01  2.6428e-01\n",
      " -4.1620e-04  4.1256e-01  3.4926e-01  2.4193e-01 -9.4110e-02  1.1235e+00\n",
      " -8.5750e-01 -4.7789e-01  4.5681e-01 -2.3303e-01 -9.3793e-01 -1.7232e+00\n",
      "  9.1327e-02  1.9521e-01]\n"
     ]
    }
   ],
   "source": [
    "### START CODE ###\n",
    "word = word_to_vec_map[\"farther\"]\n",
    "print(word)\n",
    "\n",
    "word1 = word_to_vec_map[\"mother\"]\n",
    "print(word1)\n",
    "\n",
    "word2 = word_to_vec_map[\"sister\"]\n",
    "print(word2)\n",
    "\n",
    "word3 = word_to_vec_map[\"daughter\"]\n",
    "print(word3)\n",
    "\n",
    "word4 = word_to_vec_map[\"son\"]\n",
    "print(word4)\n",
    "\n",
    "word5 = word_to_vec_map[\"brother\"]\n",
    "print(word5)\n",
    "### END CODE ###"
   ]
  },
  {
   "cell_type": "markdown",
   "metadata": {},
   "source": [
    "## 1.2  Visualising  Word Vectors\n",
    "\n",
    "In this next section we will investigate the semantic meaning embedded in the word vectors. To do this you will presenting example word vectors. The vector element values will be visuliased using a colour from the jet color map range illustrated below from blue (low) to red (high), the maximum and minimum range of the color maps is normalised to the max and min vector componet value contined in all the vectors in `word_to_vec_map`.\n",
    "\n",
    "<center><img src=\"images/jet_colour.png\" style=\"width:400px\"></center>\n",
    "    \n",
    "<center><caption> <b>Figure 2:</b> Jet Colour Range (Left/Blue Least, Right/Red Most)</caption></center>\n",
    "\n",
    "**Your tasks is to:**\n",
    "    \n",
    "- Calucate the maximum and minimum vector component values - buy running the cell below\n"
   ]
  },
  {
   "cell_type": "code",
   "execution_count": 5,
   "metadata": {},
   "outputs": [
    {
     "name": "stdout",
     "output_type": "stream",
     "text": [
      "the minimun vector componet value in the whole vocablray is:  -5.4593\n",
      "the maximum vector componet value in the whole vocablray is:  5.3101\n"
     ]
    }
   ],
   "source": [
    "def viz_vectors(word_to_vec_map, vec_max, vec_min, word_1, word_2, word_3):\n",
    "    \"\"\"\n",
    "    This funtion accepts three words and returns a figure handle for a plot.\n",
    "    \n",
    "    Inputs:\n",
    "    word_to_vec_map - data dictionary conatin a map form work 'keys' to vectors\n",
    "    vec_max  - a float containg maximum vector element value in dictionary\n",
    "    vec_min - a float containg lowest vector element value in dictionary\n",
    "    word_1 - string containing a word \n",
    "    word_2 - string containing a word\n",
    "    word_3 - string containing a word\n",
    "    \n",
    "    Outputs:\n",
    "    fig - a handle to a plot\n",
    "    \"\"\"\n",
    "\n",
    "    wordvec_1 = word_to_vec_map[word_1]\n",
    "    wordvec_2 = word_to_vec_map[word_2]\n",
    "    wordvec_3 = word_to_vec_map[word_3]\n",
    "    view_wordvec_1 = np.reshape(wordvec_1, (1, 50))\n",
    "    view_wordvec_2 = np.reshape(wordvec_2, (1, 50))\n",
    "    view_wordvec_3 = np.reshape(wordvec_3, (1, 50))\n",
    "\n",
    "    fig = plt.figure(figsize = (15,2))\n",
    "\n",
    "    ax1 = fig.add_subplot(311)\n",
    "    ax1.axes.get_yaxis().set_visible(False)\n",
    "    ax1.set_title(word_1)\n",
    "    ax1.imshow(view_wordvec_1, interpolation='nearest', cmap=cm.jet, vmin=vec_min, vmax=vec_max)\n",
    "\n",
    "    ax2 = fig.add_subplot(312)\n",
    "    ax2.axes.get_yaxis().set_visible(False)\n",
    "    ax2.imshow(view_wordvec_2, interpolation='nearest', cmap=cm.jet, vmin=vec_min, vmax=vec_max)\n",
    "    ax2.set_title(word_2)\n",
    "    \n",
    "    ax3 = fig.add_subplot(313)\n",
    "    ax3.axes.get_yaxis().set_visible(False)\n",
    "    ax3.set_title(word_3)\n",
    "    ax3.imshow(view_wordvec_3, interpolation='nearest', cmap=cm.jet, vmin=vec_min, vmax=vec_max)\n",
    "    \n",
    "    return(fig)\n",
    "\n",
    "def vec_max_min(word_to_vec_map):\n",
    "    vec_max = 0\n",
    "    vec_min = 0\n",
    "\n",
    "    for key in word_to_vec_map:\n",
    "        if np.amax(word_to_vec_map[key]) > vec_max:\n",
    "            vec_max = np.amax(word_to_vec_map[key])\n",
    "        if np.amin(word_to_vec_map[key]) < vec_min:\n",
    "            vec_min = np.amin(word_to_vec_map[key])\n",
    "\n",
    "    return(vec_max,vec_min)\n",
    "\n",
    "vec_max, vec_min = vec_max_min(word_to_vec_map)\n",
    "\n",
    "print(\"the minimun vector componet value in the whole vocablray is: \", vec_min)\n",
    "print(\"the maximum vector componet value in the whole vocablray is: \", vec_max)\n"
   ]
  },
  {
   "cell_type": "markdown",
   "metadata": {},
   "source": [
    "**Expected Output**:\n",
    "\n",
    "<table>\n",
    "    <tr>\n",
    "        <td>\n",
    "            minimun vector componet value\n",
    "        </td>\n",
    "        <td>\n",
    "         -5.4593\n",
    "        </td>\n",
    "    </tr>\n",
    "        <tr>\n",
    "        <td>\n",
    "            maximum vector componet value\n",
    "        </td>\n",
    "        <td>\n",
    "         5.3101\n",
    "        </td>\n",
    "    </tr>\n",
    "</table>\n",
    "\n",
    "\n",
    "\n",
    "**In the follwing cell your tasks is to:**\n",
    "    \n",
    "-  Visualise an addtinal three sets of three vectors where two vectors are similar semantically and have similar patterns in the vector visulisation and a third that is related but different in both semantic meaning and a difference can been seen in the vector visulisation, you can do this by calling the function `viz_vectors`."
   ]
  },
  {
   "cell_type": "code",
   "execution_count": 6,
   "metadata": {},
   "outputs": [
    {
     "data": {
      "image/png": "[encoded data removed]",
      "text/plain": [
       "<Figure size 1080x144 with 3 Axes>"
      ]
     },
     "metadata": {
      "needs_background": "light"
     },
     "output_type": "display_data"
    }
   ],
   "source": [
    "fig = viz_vectors(word_to_vec_map, vec_max, vec_min, 'man', 'woman', 'person')\n",
    "plt.show()"
   ]
  },
  {
   "cell_type": "code",
   "execution_count": 7,
   "metadata": {},
   "outputs": [
    {
     "data": {
      "image/png": "[encoded data removed]",
      "text/plain": [
       "<Figure size 1080x144 with 3 Axes>"
      ]
     },
     "metadata": {
      "needs_background": "light"
     },
     "output_type": "display_data"
    },
    {
     "data": {
      "image/png": "[encoded data removed]",
      "text/plain": [
       "<Figure size 1080x144 with 3 Axes>"
      ]
     },
     "metadata": {
      "needs_background": "light"
     },
     "output_type": "display_data"
    },
    {
     "data": {
      "image/png": "[encoded data removed]",
      "text/plain": [
       "<Figure size 1080x144 with 3 Axes>"
      ]
     },
     "metadata": {
      "needs_background": "light"
     },
     "output_type": "display_data"
    }
   ],
   "source": [
    "##### START CODE #######\n",
    "\n",
    "#Step 1: vizulise first set of three words\n",
    "fig = viz_vectors(word_to_vec_map, vec_max, vec_min, 'boy', 'girl', 'child')\n",
    "plt.show()\n",
    "\n",
    "#Step 1: vizulise first set of three words\n",
    "fig = viz_vectors(word_to_vec_map, vec_max, vec_min, 'cat', 'dog', 'animal')\n",
    "plt.show()\n",
    "\n",
    "#Step 1: vizulise first set of three words\n",
    "fig = viz_vectors(word_to_vec_map, vec_max, vec_min, 'football', 'rugby', 'sport')\n",
    "plt.show()\n",
    "##### END CODE #########"
   ]
  },
  {
   "cell_type": "markdown",
   "metadata": {},
   "source": [
    "## 1.3 Viewing Word Clusters in the Vector Space\n",
    "\n",
    "In this section you will view the vectors plotted in the feature space, since our feature space is 50 dimensions we will use a dimension reduction technique to be able to plot the vectors in a 2-dimensional space. This technique compresses the 50 dimension into 2 whilst trying to retain the most significant information. Although is inevitable this technique looses discriminatory information we can still visualise semantic relationships in the vector space, as illustrated in the figure below.\n",
    "\n",
    "<center><img src=\"images/Country_Capital_Vectors.png\" width=\"500px\"/></center>\n",
    "\n",
    "<caption><center> <b>Figure 3:</b> Visulisation of vectors in 2-dimentional space, the word vector positions are marked by a red <span style=\"color:red\"> X </span> the dotted lines are representing the semantic relationship between word vectors.</center></caption>\n",
    "\n",
    "- run the cell below to load a function to reduce the feature space and plot visualise word vectors,\n"
   ]
  },
  {
   "cell_type": "code",
   "execution_count": 8,
   "metadata": {},
   "outputs": [],
   "source": [
    "def tsne_plot(model):\n",
    "    \"\"\"\n",
    "    Creates and TSNE model and plots it\n",
    "    \"\"\"\n",
    "    \n",
    "    labels = []\n",
    "    tokens = []\n",
    "\n",
    "    for word in model:  #.wv.vocab\n",
    "        tokens.append(model[word])\n",
    "        labels.append(word)\n",
    "    \n",
    "    tsne_model = TSNE(perplexity=2, n_components=2, init='pca', n_iter=2500, random_state=23)\n",
    "    new_values = tsne_model.fit_transform(tokens)\n",
    "\n",
    "    x = []\n",
    "    y = []\n",
    "    for value in new_values:\n",
    "        x.append(value[0])\n",
    "        y.append(value[1])\n",
    "\n",
    "    plt.figure(figsize=(16, 16)) \n",
    "    for i in range(len(x)):\n",
    "        plt.scatter(x[i],y[i])\n",
    "        plt.annotate(labels[i],\n",
    "                     xy=(x[i], y[i]),\n",
    "                     xytext=(5, 2),\n",
    "                     textcoords='offset points',\n",
    "                     ha='right',\n",
    "                     va='bottom')\n",
    "    plt.show()\n"
   ]
  },
  {
   "cell_type": "markdown",
   "metadata": {},
   "source": [
    "**Your task it to:**\n",
    "\n",
    "- run the code below to see the relationships between counties and their capitals\n",
    "- create two new words lists that create three cluster of words in the feature space where the word within clusters have a semantic relationship and the words across clusters do not.\n",
    "- there is an example already coded, make sure too add your code and plot (do not overwrite)\n",
    "    "
   ]
  },
  {
   "cell_type": "code",
   "execution_count": 9,
   "metadata": {},
   "outputs": [
    {
     "data": {
      "image/png": "[encoded data removed]",
      "text/plain": [
       "<Figure size 1152x1152 with 1 Axes>"
      ]
     },
     "metadata": {
      "needs_background": "light"
     },
     "output_type": "display_data"
    },
    {
     "data": {
      "image/png": "[encoded data removed]",
      "text/plain": [
       "<Figure size 1152x1152 with 1 Axes>"
      ]
     },
     "metadata": {
      "needs_background": "light"
     },
     "output_type": "display_data"
    }
   ],
   "source": [
    "word_list = ('china','bejing', 'japan', 'tokyo', 'italy', 'rome', 'spain', 'madrid', 'uk', 'london'\n",
    "             ,'belgium', 'brussels', 'portugal', 'lisbon', 'russia','moscow', 'thailand','bangkok')\n",
    "\n",
    "new_dict = {k:word_to_vec_map[k] for k in word_list if k in word_to_vec_map}\n",
    "\n",
    "tsne_plot(new_dict)\n",
    "\n",
    "word_list =('car' ,'bus','airplane', 'lorry','run','walk','jog','sprint', 'green', 'red' ,'blue', 'yellow')\n",
    "\n",
    "new_dict = {k:word_to_vec_map[k] for k in word_list if k in word_to_vec_map}\n",
    "\n",
    "tsne_plot(new_dict)"
   ]
  },
  {
   "cell_type": "code",
   "execution_count": 10,
   "metadata": {},
   "outputs": [
    {
     "data": {
      "image/png": "[encoded data removed]",
      "text/plain": [
       "<Figure size 1152x1152 with 1 Axes>"
      ]
     },
     "metadata": {
      "needs_background": "light"
     },
     "output_type": "display_data"
    },
    {
     "data": {
      "image/png": "[encoded data removed]",
      "text/plain": [
       "<Figure size 1152x1152 with 1 Axes>"
      ]
     },
     "metadata": {
      "needs_background": "light"
     },
     "output_type": "display_data"
    },
    {
     "data": {
      "image/png": "[encoded data removed]",
      "text/plain": [
       "<Figure size 1152x1152 with 1 Axes>"
      ]
     },
     "metadata": {
      "needs_background": "light"
     },
     "output_type": "display_data"
    }
   ],
   "source": [
    "#### START CODE #####\n",
    "\n",
    "word_list1 = ('football','rugby', 'cricket', 'running', 'walking', 'jogging')\n",
    "\n",
    "new_dict = {k:word_to_vec_map[k] for k in word_list1 if k in word_to_vec_map}\n",
    "\n",
    "tsne_plot(new_dict)\n",
    "\n",
    "word_list2 = ('dog','cat', 'rabbit', 'cow', 'sheep', 'horse', 'farmer', 'tracktor')\n",
    "\n",
    "new_dict = {k:word_to_vec_map[k] for k in word_list2 if k in word_to_vec_map}\n",
    "\n",
    "tsne_plot(new_dict)\n",
    "\n",
    "word_list3 = ('road','car', 'truck', 'gravel', 'grass', 'van', 'driver', 'rider')\n",
    "\n",
    "new_dict = {k:word_to_vec_map[k] for k in word_list3 if k in word_to_vec_map}\n",
    "\n",
    "tsne_plot(new_dict)\n",
    "### END CODE ######\n"
   ]
  },
  {
   "cell_type": "markdown",
   "metadata": {},
   "source": [
    "# 2.  Measuring Word Similarity in Vector Space\n",
    "\n",
    "Next we will generate a way of measuring the similarity of embedding vectors of two given words. We will use the cosine similarity measure since it takes into account the angle of the vector not just the magnitude as it is the angle of the vector that contains most of the semantic meaning. Given two vectors $u$ and $v$, cosine similarity is defined as follows: \n",
    "\n",
    "$$\\text{CosineSimilarity(u, v)} = \\frac {u . v} {||u||_2 ||v||_2} = cos(\\theta) \\tag{1}$$\n",
    "\n",
    "where $u.v$ is the dot product (or inner product) of two vectors, $||u||_2$ is the norm (or length) of the vector $u$, and $\\theta$ is the angle between $u$ and $v$. This similarity depends on the angle between $u$ and $v$. If $u$ and $v$ are very similar, their cosine similarity will be close to 1; if they are dissimilar, the cosine similarity will take a smaller value. \n",
    "\n",
    "<center><img src=\"images/cosine_sim.png\" width=\"800px\"/></center>\n",
    "\n",
    "<caption><center> <b>Figure 4</b>: The cosine of the angle between two vectors is a measure of how similar they are</center></caption>\n",
    "\n",
    "You need to:\n",
    "- Implement the function `cosine_similarity()` to evaluate similarity between word vectors.\n",
    "\n",
    "**Note:** The norm of $u$ is defined as $\\vert\\vert u\\vert\\vert_2 = \\sqrt{\\sum_{i=1}^{n} u_i^2}$\n",
    "\n",
    "**Hint** There a many maths functions provided by the numpy library imported in to this notebook as `np` so you can use functions to calculate dot product, square root, L2-norm etc of vectors. e.g. `np.dot(u, v)` "
   ]
  },
  {
   "cell_type": "code",
   "execution_count": 11,
   "metadata": {},
   "outputs": [],
   "source": [
    "def cosine_similarity(u, v):\n",
    "    \"\"\"\n",
    "    Cosine similarity reflects the degree of similariy between u and v\n",
    "        \n",
    "    Arguments:\n",
    "        u -- a word vector of shape (n,)          \n",
    "        v -- a word vector of shape (n,)\n",
    "\n",
    "    Returns:\n",
    "        cosine_similarity -- the cosine similarity between u and v defined by the formula above.\n",
    "    \"\"\"\n",
    "        \n",
    "    ### START CODE HERE ###\n",
    "    #Step 1: Compute the dot product between u and v\n",
    "    dot = np.dot(u, v)\n",
    "    #Step 2: Compute the L2 norm of u (≈1 line)\n",
    "    norm_u = np.linalg.norm(u)\n",
    "    \n",
    "    #Step 3: Compute the L2 norm of v (≈1 line)\n",
    "    norm_v = np.linalg.norm(v)\n",
    "    \n",
    "    # Compute the cosine similarity defined by formula (1) (≈1 line)\n",
    "    cosine_similarity = np.divide(dot, norm_u * norm_v)\n",
    "    #np.divide(dot, u*v)\n",
    "    ### END CODE HERE ###\n",
    "    \n",
    "    return cosine_similarity"
   ]
  },
  {
   "cell_type": "markdown",
   "metadata": {},
   "source": [
    "## 2.1 Testing your Similarity Function\n",
    "Run the code below to test your Similarity function `cosine_similarity()`."
   ]
  },
  {
   "cell_type": "code",
   "execution_count": 12,
   "metadata": {},
   "outputs": [
    {
     "name": "stdout",
     "output_type": "stream",
     "text": [
      "cosine_similarity(father, mother) =  0.8909038442893618\n",
      "cosine_similarity(ball, crocodile) =  0.2743924626137943\n",
      "cosine_similarity(france - paris, rome - italy) =  -0.6751479308174204\n"
     ]
    }
   ],
   "source": [
    "father = word_to_vec_map[\"father\"]\n",
    "mother = word_to_vec_map[\"mother\"]\n",
    "ball = word_to_vec_map[\"ball\"]\n",
    "crocodile = word_to_vec_map[\"crocodile\"]\n",
    "france = word_to_vec_map[\"france\"]\n",
    "italy = word_to_vec_map[\"italy\"]\n",
    "paris = word_to_vec_map[\"paris\"]\n",
    "rome = word_to_vec_map[\"rome\"]\n",
    "\n",
    "print(\"cosine_similarity(father, mother) = \", cosine_similarity(father, mother))\n",
    "print(\"cosine_similarity(ball, crocodile) = \",cosine_similarity(ball, crocodile))\n",
    "print(\"cosine_similarity(france - paris, rome - italy) = \",cosine_similarity(france - paris, rome - italy))"
   ]
  },
  {
   "cell_type": "markdown",
   "metadata": {},
   "source": [
    "**Expected Output**:\n",
    "\n",
    "<table>\n",
    "    <tr>\n",
    "        <td>\n",
    "            **cosine_similarity(father, mother)** =\n",
    "        </td>\n",
    "        <td>\n",
    "         0.890903844289\n",
    "        </td>\n",
    "    </tr>\n",
    "        <tr>\n",
    "        <td>\n",
    "            **cosine_similarity(ball, crocodile)** =\n",
    "        </td>\n",
    "        <td>\n",
    "         0.274392462614\n",
    "        </td>\n",
    "    </tr>\n",
    "        <tr>\n",
    "        <td>\n",
    "            **cosine_similarity(france - paris, rome - italy)** =\n",
    "        </td>\n",
    "        <td>\n",
    "         -0.675147930817\n",
    "        </td>\n",
    "    </tr>\n",
    "</table>"
   ]
  },
  {
   "cell_type": "markdown",
   "metadata": {},
   "source": [
    "After you get the correct expected output, please feel free to modify the inputs and measure the cosine similarity between other pairs of words! Playing around the cosine similarity of other inputs will give you a better sense of how word vectors behave. "
   ]
  },
  {
   "cell_type": "markdown",
   "metadata": {},
   "source": [
    "# 2.2 - Word Analogy Task\n",
    "\n",
    "In the word analogy task, we complete the sentence <font color='brown'>\"*a* is to *b* as *c* is to **____**\"</font>. An example is <font color='brown'> '*man* is to *woman* as *king* is to *queen*' </font>. In detail, we are trying to find a word *d*, such that the associated word vectors $e_a, e_b, e_c, e_d$ are related in the following manner: $e_b - e_a \\approx e_d - e_c$. We will measure the similarity between $e_b - e_a$ and $e_d - e_c$ using cosine similarity. \n",
    "\n",
    "**Exercise**: Complete the code below to be able to perform word analogies!"
   ]
  },
  {
   "cell_type": "code",
   "execution_count": 13,
   "metadata": {},
   "outputs": [],
   "source": [
    "# complete_analogy\n",
    "\n",
    "def complete_analogy(word_a, word_b, word_c, word_to_vec_map):\n",
    "    \"\"\"\n",
    "    Performs the word analogy task as explained above: a is to b as c is to ____. \n",
    "    \n",
    "    Arguments:\n",
    "    word_a -- a word, string\n",
    "    word_b -- a word, string\n",
    "    word_c -- a word, string\n",
    "    word_to_vec_map -- dictionary that maps words to their corresponding vectors. \n",
    "    \n",
    "    Returns:\n",
    "    best_word --  the word such that v_b - v_a is close to v_best_word - v_c, as measured by cosine similarity\n",
    "    \"\"\"\n",
    "    \n",
    "    # convert words to lower case\n",
    "    word_a, word_b, word_c = word_a.lower(), word_b.lower(), word_c.lower()\n",
    "    \n",
    "    ### START CODE HERE ###\n",
    "    # Get the word embeddings v_a, v_b and v_c (≈1-3 lines)\n",
    "    e_a, e_b, e_c = word_to_vec_map[word_a], word_to_vec_map[word_b], word_to_vec_map[word_c], \n",
    "    ### END CODE HERE ###\n",
    "    \n",
    "    words = word_to_vec_map.keys()\n",
    "    max_cosine_sim = -100              # Initialize max_cosine_sim to a large negative number\n",
    "    best_word = None                   # Initialize best_word with None, it will help keep track of the word to output\n",
    "\n",
    "    # loop over the whole word vector set\n",
    "    for w in words:        \n",
    "        # to avoid best_word being one of the input words, pass on them.\n",
    "        if w in [word_a, word_b, word_c]:\n",
    "            continue\n",
    "        \n",
    "        ### START CODE HERE ###\n",
    "        # Compute cosine similarity between the vector (e_b - e_a) and the vector ((w's vector representation) - e_c)  (≈1 line)\n",
    "        cosine_sim = cosine_similarity((e_b - e_a), word_to_vec_map[w] - e_c)\n",
    "        \n",
    "        # If the cosine_sim is more than the max_cosine_sim seen so far,\n",
    "            # then: set the new max_cosine_sim to the current cosine_sim and the best_word to the current word (≈3 lines)\n",
    "        if cosine_sim > max_cosine_sim:\n",
    "            max_cosine_sim = cosine_sim\n",
    "            best_word = w\n",
    "        ### END CODE HERE ###\n",
    "        \n",
    "    return best_word"
   ]
  },
  {
   "cell_type": "markdown",
   "metadata": {},
   "source": [
    "Run the cell below to test your code, this may take 1-2 minutes."
   ]
  },
  {
   "cell_type": "code",
   "execution_count": 14,
   "metadata": {},
   "outputs": [
    {
     "name": "stdout",
     "output_type": "stream",
     "text": [
      "italy -> italian :: spain -> spanish\n",
      "india -> delhi :: japan -> tokyo\n",
      "man -> woman :: boy -> girl\n",
      "small -> smaller :: large -> larger\n"
     ]
    }
   ],
   "source": [
    "triads_to_try = [('italy', 'italian', 'spain'), \n",
    "                 ('india', 'delhi', 'japan'), \n",
    "                 ('man', 'woman', 'boy'), \n",
    "                 ('small', 'smaller', 'large')]\n",
    "\n",
    "for triad in triads_to_try:\n",
    "    print ('{} -> {} :: {} -> {}'.format( *triad, complete_analogy(*triad,word_to_vec_map)))"
   ]
  },
  {
   "cell_type": "markdown",
   "metadata": {},
   "source": [
    "**Expected Output**:\n",
    "\n",
    "<table>\n",
    "    <tr>\n",
    "        <td>\n",
    "            **italy -> italian** ::\n",
    "        </td>\n",
    "        <td>\n",
    "         spain -> spanish\n",
    "        </td>\n",
    "    </tr>\n",
    "        <tr>\n",
    "        <td>\n",
    "            **india -> delhi** ::\n",
    "        </td>\n",
    "        <td>\n",
    "         japan -> tokyo\n",
    "        </td>\n",
    "    </tr>\n",
    "        <tr>\n",
    "        <td>\n",
    "            **man -> woman ** ::\n",
    "        </td>\n",
    "        <td>\n",
    "         boy -> girl\n",
    "        </td>\n",
    "    </tr>\n",
    "        <tr>\n",
    "        <td>\n",
    "            **small -> smaller ** ::\n",
    "        </td>\n",
    "        <td>\n",
    "         large -> larger\n",
    "        </td>\n",
    "    </tr>\n",
    "</table>"
   ]
  },
  {
   "cell_type": "markdown",
   "metadata": {},
   "source": [
    "Once you get the correct expected output, please feel free to modify the input cells above to test your own analogies. Try to find some other analogy pairs that do work, but also find some where the algorithm doesn't give the right answer: For example, you can try small->smaller as big->?.  "
   ]
  },
  {
   "cell_type": "markdown",
   "metadata": {},
   "source": [
    "# 3. Using Counter Factual Testing to Uncover Bias\n",
    "\n",
    "One way to test for bias in a model is to use counter factual examples. In this section we study counter factual fairness in the model's predictions (for the word analogy tasks above). Specifically factual fairness asks the question: <i>How would the prediction change if the sensitive attribute referenced in the example were different?</i>\n",
    "\n",
    "If the prediction changes with respect to a sensitive attribute, we consider this an indicator of a potential problem. In contrast to group-based notions of fairness (e.g., demographic parity, equality of odds), which seek to statistically equalize the model’s behavior for entire sensitive groups (we will see this in the final lab), counter factual fairness requires equal model behavior on individual counter factual pairs.\n",
    "\n",
    "In this case we use a simple for of counter factual test where: we consider perturbations obtained by substituting tokens (words) associated with identity groups. e.g. man with woman, white with Asian, Asian with Black, white with black and so on. i.e. we design a word analogy set of triads where the counter factual tokens are the two of the three words.\n",
    "\n",
    "In your experiment here you can investigate for any type of bias, for example those from the UK Law Protected Characteristics Equality Act 2010. You must however explore gender (need your discovered list of triads for gender  later). The Protected Characteristics are:\n",
    "\n",
    "- Age\n",
    "- Disability\n",
    "- Gender reassignment\n",
    "- Marriage and civil partnership\n",
    "- Pregnancy and maternity\n",
    "- Race\n",
    "- Religion and belief\n",
    "- Sex\n",
    "- Sexual orientation\n",
    "\n",
    "\n",
    "Although it is difficult using this type of limited language structure (word analogy) it is possible to uncover examples of bias.  For example try:\n",
    "\n",
    "- 'white' is to 'boss' what 'black' is to ___\n",
    "- 'women' is to 'nurse' what 'man' is to ___\n",
    "\n",
    "\n",
    "**You need to:**\n",
    "\n",
    "- explore word analogies for evidence of bias (minimum 10)\n",
    "- capture a list of word analogies that provide evidence of various types of bias.\n"
   ]
  },
  {
   "cell_type": "code",
   "execution_count": 15,
   "metadata": {},
   "outputs": [
    {
     "name": "stdout",
     "output_type": "stream",
     "text": [
      "white -> boss :: black -> hitman\n",
      "women -> nurse :: man -> anesthetist\n",
      "woman -> teacher :: man -> graduate\n",
      "boy -> car :: girl -> truck\n",
      "rose -> flower :: smell -> arrestingly\n",
      "professional -> man :: woman -> coleophoridae\n",
      "black -> boss :: white -> manager\n",
      "man -> nurse :: woman -> anesthetists\n",
      "man -> teacher :: woman -> undergraduate\n",
      "professional -> woman :: man -> coleophoridae\n",
      "girl -> animals :: boy -> mammals\n",
      "sea -> beach :: hills -> vedra\n",
      "old -> man :: young -> cowardly\n",
      "catholic -> cross :: christian -> diving\n",
      "man -> wife :: boy -> daughter\n",
      "woman -> doctor :: man -> faustus\n"
     ]
    }
   ],
   "source": [
    "### START CODE ###\n",
    "triads_to_try = [('white', 'boss', 'black'), \n",
    "                 ('women', 'nurse', 'man'),\n",
    "                 ('woman', 'teacher', 'man'),\n",
    "                 ('boy','car','girl'),\n",
    "                 ('rose','flower','smell'),\n",
    "                 ('professional','man','woman'),\n",
    "                 ('black','boss','white'),\n",
    "                 ('man','nurse','woman'),\n",
    "                 ('man','teacher','woman'),\n",
    "                 ('professional','woman','man'),\n",
    "                 ('girl','animals','boy'),\n",
    "                 ('sea','beach','hills'),\n",
    "                 ('old','man','young'),\n",
    "                 ('catholic', 'cross','christian'),\n",
    "                 ('man', 'wife', 'boy'),\n",
    "                 ('woman', 'doctor', 'man')\n",
    "                ]\n",
    "\n",
    "### END CODE ###\n",
    "\n",
    "for triad in triads_to_try:\n",
    "    print ('{} -> {} :: {} -> {}'.format( *triad, complete_analogy(*triad,word_to_vec_map)))"
   ]
  },
  {
   "cell_type": "markdown",
   "metadata": {},
   "source": [
    "# 4. Removing Bias from Word Vector Models"
   ]
  },
  {
   "cell_type": "markdown",
   "metadata": {},
   "source": [
    "In this section, you will examine gender biases (that you may well have found some evidence of using counter factuals above) that can be reflected in a word embedding model, and explore algorithms for reducing the bias.  In addition to learning about the topic of debiasing, this exercise will also help hone your intuition about what word vectors are doing. This section involves a bit of linear algebra, though you can complete it without being expert in linear algebra, by following and implementing the formulas given. \n",
    "\n",
    "**your task it to see how the GloVe word embeddings relate to gender:**\n",
    "  \n",
    "- You will need  compute a vector $g = e_{woman}-e_{man}$, where $e_{woman}$ represents the word vector corresponding to the word *woman*, and $e_{man}$ corresponds to the word vector corresponding to the word *man*. \n",
    "\n",
    "The resulting vector $g$ roughly encodes the concept of \"gender\". (You might get a more accurate representation if you compute $g_1 = e_{mother}-e_{father}$, $g_2 = e_{girl}-e_{boy}$, etc. and average over them. But just using $e_{woman}-e_{man}$ will give good enough results for now.) \n"
   ]
  },
  {
   "cell_type": "code",
   "execution_count": 16,
   "metadata": {},
   "outputs": [
    {
     "name": "stdout",
     "output_type": "stream",
     "text": [
      "[-0.087144    0.2182     -0.40986    -0.03922    -0.1032      0.94165\n",
      " -0.06042     0.32988     0.46144    -0.35962     0.31102    -0.86824\n",
      "  0.96006     0.01073     0.24337     0.08193    -1.02722    -0.21122\n",
      "  0.695044   -0.00222     0.29106     0.5053     -0.099454    0.40445\n",
      "  0.30181     0.1355     -0.0606     -0.07131    -0.19245    -0.06115\n",
      " -0.3204      0.07165    -0.13337    -0.25068714 -0.14293    -0.224957\n",
      " -0.149       0.048882    0.12191    -0.27362    -0.165476   -0.20426\n",
      "  0.54376    -0.271425   -0.10245    -0.32108     0.2516     -0.33455\n",
      " -0.04371     0.01258   ]\n"
     ]
    }
   ],
   "source": [
    "#### START CODE #####\n",
    "g = word_to_vec_map['woman'] - word_to_vec_map['man']\n",
    "\n",
    "#### END CODE ######\n",
    "print(g)"
   ]
  },
  {
   "cell_type": "markdown",
   "metadata": {},
   "source": [
    "## 4.1 Word Similarity with Gender, $g$\n",
    "Now, you will consider the cosine similarity of different words with $g$. Consider what a positive value of similarity means vs a negative cosine similarity. \n",
    "\n",
    "**Your task is to:**\n",
    "- iterate over the list of names and print out the word and word similarity between each word (name) and the gender vector, $g$.\n",
    "- try a list of your own names"
   ]
  },
  {
   "cell_type": "code",
   "execution_count": 17,
   "metadata": {},
   "outputs": [
    {
     "name": "stdout",
     "output_type": "stream",
     "text": [
      "List of names and their similarities with constructed vector:\n",
      "The similiarity for: john and woman-man is: -0.23163356145973724\n",
      "The similiarity for: marie and woman-man is: 0.315597935396073\n",
      "The similiarity for: sophie and woman-man is: 0.31868789859418784\n",
      "The similiarity for: ronaldo and woman-man is: -0.31244796850329437\n",
      "The similiarity for: priya and woman-man is: 0.176320418390094\n",
      "The similiarity for: rahul and woman-man is: -0.16915471039231722\n",
      "The similiarity for: danielle and woman-man is: 0.24393299216283895\n",
      "The similiarity for: reza and woman-man is: -0.07930429672199552\n",
      "The similiarity for: katy and woman-man is: 0.2831068659572615\n",
      "The similiarity for: yasmin and woman-man is: 0.23313857767928758\n",
      "The similiarity for: isabelle and woman-man is: 0.3748894903759975\n",
      "The similiarity for: andy and woman-man is: -0.30003551575440973\n",
      "The similiarity for: grace and woman-man is: 0.022189318725065146\n",
      "The similiarity for: mike and woman-man is: -0.3746819360286547\n",
      "The similiarity for: amal and woman-man is: -0.030651986967681413\n",
      "The similiarity for: thomas and woman-man is: -0.15665091798782563\n",
      "The similiarity for: lynette and woman-man is: 0.3087390706803404\n",
      "The similiarity for: matthew and woman-man is: -0.1398922741976499\n",
      "The similiarity for: chris and woman-man is: -0.16746908394126495\n"
     ]
    }
   ],
   "source": [
    "print ('List of names and their similarities with constructed vector:')\n",
    "\n",
    "# girls and boys names\n",
    "name_list = ['john', 'marie', 'sophie', 'ronaldo', 'priya', 'rahul', 'danielle', 'reza', 'katy', 'yasmin']\n",
    "\n",
    "#### START CODE ####\n",
    "for w in name_list:\n",
    "    sim = cosine_similarity(word_to_vec_map[w], g)\n",
    "    print(\"The similiarity for:\", w, \"and woman-man is:\", sim)\n",
    "    \n",
    "new_list = ['isabelle', 'andy', 'grace', 'mike', 'amal', 'thomas', 'lynette', 'matthew', 'chris']\n",
    "\n",
    "for w in new_list:\n",
    "    sim = cosine_similarity(word_to_vec_map[w], g)\n",
    "    print(\"The similiarity for:\", w, \"and woman-man is:\", sim)\n",
    "#### END CODE #####"
   ]
  },
  {
   "cell_type": "markdown",
   "metadata": {},
   "source": [
    "As you can see, female first names tend to have a positive cosine similarity with our constructed vector $g$, while male first names tend to have a negative cosine similarity. This is not suprising, and the result seems acceptable. \n",
    "\n",
    "**Your task is to try with some other words:**\n",
    "- iterate over the provided word list\n",
    "- second create a new word list of your own to investigate (approx. ten words)"
   ]
  },
  {
   "cell_type": "code",
   "execution_count": 18,
   "metadata": {},
   "outputs": [
    {
     "name": "stdout",
     "output_type": "stream",
     "text": [
      "Other words and their similarities:\n",
      "The similiarity for: lipstick and woman-man is: 0.2769191625638267\n",
      "The similiarity for: guns and woman-man is: -0.1888485567898898\n",
      "The similiarity for: science and woman-man is: -0.060829065409296994\n",
      "The similiarity for: arts and woman-man is: 0.008189312385880328\n",
      "The similiarity for: literature and woman-man is: 0.06472504433459927\n",
      "The similiarity for: warrior and woman-man is: -0.2092016464112529\n",
      "The similiarity for: doctor and woman-man is: 0.11895289410935041\n",
      "The similiarity for: tree and woman-man is: -0.07089399175478091\n",
      "The similiarity for: receptionist and woman-man is: 0.33077941750593737\n",
      "The similiarity for: technology and woman-man is: -0.131937324475543\n",
      "The similiarity for: fashion and woman-man is: 0.03563894625772699\n",
      "The similiarity for: teacher and woman-man is: 0.17920923431825664\n",
      "The similiarity for: engineer and woman-man is: -0.08039280494524072\n",
      "The similiarity for: pilot and woman-man is: 0.001076449899191679\n",
      "The similiarity for: computer and woman-man is: -0.10330358873850498\n",
      "The similiarity for: singer and woman-man is: 0.1850051813649629\n",
      "The similiarity for: book and woman-man is: -0.06851690984377928\n",
      "The similiarity for: car and woman-man is: -0.09473227375315056\n",
      "The similiarity for: caring and woman-man is: 0.23403799530896813\n",
      "The similiarity for: poker and woman-man is: -0.20990207608263464\n",
      "The similiarity for: racer and woman-man is: 0.015916690367377806\n",
      "The similiarity for: games and woman-man is: -0.29264558579825495\n",
      "The similiarity for: sun and woman-man is: -0.12566758873987435\n",
      "The similiarity for: rain and woman-man is: -0.0038888394608016905\n",
      "The similiarity for: nurse and woman-man is: 0.38030879680687524\n",
      "The similiarity for: nun and woman-man is: 0.28330648511929846\n",
      "The similiarity for: football and woman-man is: -0.2819136977234696\n",
      "The similiarity for: rugby and woman-man is: -0.2593529580467866\n",
      "The similiarity for: cricket and woman-man is: -0.320515989767572\n",
      "The similiarity for: netball and woman-man is: 0.09689280865637147\n",
      "The similiarity for: hockey and woman-man is: -0.17715947107181923\n",
      "The similiarity for: games and woman-man is: -0.29264558579825495\n",
      "The similiarity for: baseball and woman-man is: -0.27062443030608074\n",
      "The similiarity for: soccer and woman-man is: -0.18707487089143846\n"
     ]
    }
   ],
   "source": [
    "print('Other words and their similarities:')\n",
    "word_list = ['lipstick', 'guns', 'science', 'arts', 'literature', 'warrior','doctor', 'tree', 'receptionist', \n",
    "             'technology',  'fashion', 'teacher', 'engineer', 'pilot', 'computer', 'singer']\n",
    "#### START CODE ####\n",
    "for w in word_list:\n",
    "    sim = cosine_similarity(word_to_vec_map[w], g)\n",
    "    print(\"The similiarity for:\", w, \"and woman-man is:\", sim)\n",
    "#### END CODE ###\n",
    "\n",
    "#### START CODE ####\n",
    "\n",
    "word_list_2 = [\"book\",\"car\",'caring','poker','racer','games','sun','rain','nurse','nun']\n",
    "\n",
    "for w in word_list_2:\n",
    "    sim_2 = cosine_similarity(word_to_vec_map[w], g)\n",
    "    print(\"The similiarity for:\", w, \"and woman-man is:\", sim_2)\n",
    "    \n",
    "    \n",
    "word_list_3 = ['football','rugby','cricket','netball','hockey','games','baseball','soccer']\n",
    "\n",
    "for w in word_list_3:\n",
    "    sim_3 = cosine_similarity(word_to_vec_map[w], g)\n",
    "    print(\"The similiarity for:\", w, \"and woman-man is:\", sim_3)\n",
    "#### END CODE ###"
   ]
  },
  {
   "cell_type": "markdown",
   "metadata": {},
   "source": [
    "Do you notice anything surprising? It is astonishing how these results reflect certain unhealthy gender stereotypes. For example, \"computer\" is closer to \"man\" while \"literature\" is closer to \"woman\". Ouch! \n",
    "\n",
    "We'll see below how to reduce the bias of these vectors, using an algorithm due to [2]. Note that some word pairs such as \"actor\"/\"actress\" or \"grandmother\"/\"grandfather\" should remain gender specific, while other words such as \"receptionist\" or \"technology\" should be neutralized, i.e. not be gender-related. You will have to treat these two type of words differently when debiasing.\n",
    "\n",
    "[2] T. Bolukbasi, K.-W. Chang, J. Zou, V. Saligrama, and A. Kalai, “Man is to Computer Programmer as Woman is to Homemaker? Debiasing Word Embeddings,” Jul. 2016.[Link to Paper](https://papers.nips.cc/paper/6228-man-is-to-computer-programmer-as-woman-is-to-homemaker-debiasing-word-embeddings.pdf).\n",
    "\n",
    "## 4.2 Neutralize Bias in Word Vectors \n",
    "\n",
    "The figure below should help you visualize what neutralizing does. If you're using a 50-dimensional word embedding, the 50 dimensional space can be split into two parts: The bias-direction $g$, and the remaining 49 dimensions, which we'll call $g_{\\perp}$. In linear algebra, we say that the 49 dimensional $g_{\\perp}$ is perpendicular (or \"othogonal\") to $g$, meaning it is at 90 degrees to $g$. The neutralization step takes a vector such as $e_{receptionist}$ and zeros out the component in the direction of $g$, giving us $e_{receptionist}^{debiased}$. \n",
    "\n",
    "Even though $g_{\\perp}$ is 49 dimensional, given the limitations of what we can draw on a screen, we illustrate it using a 1 dimensional axis below. \n",
    "\n",
    "<img src=\"images/neutral.png\" style=\"width:1000px;\"/>\n",
    "<caption><center> **Figure 3**: The word vector for \"receptionist\" represented before and after applying the neutralize operation. </center></caption>\n",
    "\n",
    "**You will need to:**\n",
    "\n",
    "Implement `neutralize()` to remove the bias of words such as \"receptionist\" or \"scientist\". Given an input embedding $e$, you can use the following formulas to compute $e^{debiased}$: \n",
    "\n",
    "$$e^{bias\\_component} = \\frac{e \\cdot g}{||g||_2^2} * g\\tag{2}$$\n",
    "$$e^{debiased} = e - e^{bias\\_component}\\tag{3}$$\n",
    "\n",
    "\n",
    "- Select word vector representation of `word`\n",
    "- Compute Equation (2)\n",
    "- Compute Equation (3)\n",
    "\n",
    "**Hint:** You can make use of some or all of following Numpy functions (search for their usage):\n",
    "\n",
    "```python\n",
    "np.dot()\n",
    "np.square()\n",
    "np.linalg.norm()\n",
    "np.sqrt()\n",
    "```\n"
   ]
  },
  {
   "cell_type": "code",
   "execution_count": 19,
   "metadata": {},
   "outputs": [],
   "source": [
    "def neutralize(word, g, word_to_vec_map):\n",
    "    \"\"\"\n",
    "    Removes the bias of \"word\" by projecting it on the space orthogonal to the bias axis. \n",
    "    This function ensures that gender neutral words are zero in the gender subspace.\n",
    "    \n",
    "    Arguments:\n",
    "        word -- string indicating the word to debias\n",
    "        g -- numpy-array of shape (50,), corresponding to the bias axis (such as gender)\n",
    "        word_to_vec_map -- dictionary mapping words to their corresponding vectors.\n",
    "    \n",
    "    Returns:\n",
    "        e_debiased -- neutralized word vector representation of the input \"word\"\n",
    "    \"\"\"\n",
    "    \n",
    "    ### START CODE HERE ###\n",
    "    #Step1: Select word vector representation of \"word\". Use word_to_vec_map. (≈ 1 line)\n",
    "    e = word_to_vec_map[word]\n",
    "    \n",
    "    # Compute e_biascomponent using the formula given above. (≈ 1 line)\n",
    "    e_biascomponent =  np.divide(np.dot(e,g),np.linalg.norm(g)**2) * g\n",
    " \n",
    "    # Neutralize e by substracting e_biascomponent from it \n",
    "    # e_debiased should be equal to its orthogonal projection. (≈ 1 line)\n",
    "    e_debiased = e - e_biascomponent\n",
    "    ### END CODE HERE ###\n",
    "    \n",
    "    return e_debiased\n",
    "\n",
    "## Possible error here"
   ]
  },
  {
   "cell_type": "markdown",
   "metadata": {},
   "source": [
    "### 4.2.1 Testing your `neutralize` Function\n",
    "\n",
    "Run the code below to test your neutralize function."
   ]
  },
  {
   "cell_type": "code",
   "execution_count": 20,
   "metadata": {},
   "outputs": [
    {
     "name": "stdout",
     "output_type": "stream",
     "text": [
      "cosine similarity between receptionist and g, before neutralizing:  0.33077941750593737\n",
      "cosine similarity between receptionist and g, after neutralizing:  -5.841032332243514e-18\n"
     ]
    }
   ],
   "source": [
    "e = \"receptionist\"\n",
    "print(\"cosine similarity between \" + e + \" and g, before neutralizing: \", cosine_similarity(word_to_vec_map[\"receptionist\"], g))\n",
    "\n",
    "e_debiased = neutralize(\"receptionist\", g, word_to_vec_map)\n",
    "print(\"cosine similarity between \" + e + \" and g, after neutralizing: \", cosine_similarity(e_debiased, g))"
   ]
  },
  {
   "cell_type": "markdown",
   "metadata": {},
   "source": [
    "**Expected Output**: The second result is essentially 0, up to numerical round-off (in the order of $10^{-17}$).\n",
    "\n",
    "\n",
    "<table>\n",
    "    <tr>\n",
    "        <td>\n",
    "            **cosine similarity between receptionist and g, before neutralizing:** :\n",
    "        </td>\n",
    "        <td>\n",
    "         0.33077941750593737\n",
    "        </td>\n",
    "    </tr>\n",
    "        <tr>\n",
    "        <td>\n",
    "            **cosine similarity between receptionist and g, after neutralizing:** :\n",
    "        </td>\n",
    "        <td>\n",
    "         -3.415405087742776e-17\n",
    "    </tr>\n",
    "</table>"
   ]
  },
  {
   "cell_type": "markdown",
   "metadata": {},
   "source": [
    "## 4.3 Equalization Algorithm to De-bias Word Vectors\n",
    "\n",
    "Next, lets see how debiasing can also be applied to word pairs such as \"actress\" and \"actor.\" Equalization is applied to pairs of words that you might want to have differ only through the gender property. As a concrete example, suppose that \"actress\" is closer to \"babysit\" than \"actor.\" By applying neutralizing to \"babysit\" we can reduce the gender-stereotype associated with babysitting. But this still does not guarantee that \"actor\" and \"actress\" are equidistant from \"babysit.\" The equalization algorithm takes care of this. \n",
    "\n",
    "The key idea behind equalization is to make sure that a particular pair of words are equidistant from the 49-dimensional $g_\\perp$. The equalization step also ensures that the two equalized steps are now the same distance from $e_{receptionist}^{debiased}$, or from any other work that has been neutralized. In pictures, this is how equalization works: \n",
    "\n",
    "<img src=\"images/equalize10.png\" style=\"width:800px;height:400px;\"\\>\n",
    "<caption><center> **Figure 4**: The word vectors for \"actor\" and \"actress\" before and after applying the equalization operation. </center></caption>\n",
    "\n",
    "\n",
    "The the linear algebra to do this is a bit more complex. (See [2] for more details if you wish). However summarised below are the key steps (equations) to complete the equalization algorithm: \n",
    "\n",
    "$$ \\mu = \\frac{e_{w1} + e_{w2}}{2}\\tag{4}$$ \n",
    "\n",
    "$$ \\mu_{B} = \\frac {\\mu \\cdot \\text{bias_axis}}{||\\text{bias_axis}||_2^2} *\\text{bias_axis}\n",
    "\\tag{5}$$ \n",
    "\n",
    "$$\\mu_{\\perp} = \\mu - \\mu_{B} \\tag{6}$$\n",
    "\n",
    "$$ e_{w1B} = \\frac {e_{w1} \\cdot \\text{bias_axis}}{||\\text{bias_axis}||_2^2} *\\text{bias_axis}\n",
    "\\tag{7}$$ \n",
    "$$ e_{w2B} = \\frac {e_{w2} \\cdot \\text{bias_axis}}{||\\text{bias_axis}||_2^2} *\\text{bias_axis}\n",
    "\\tag{8}$$\n",
    "\n",
    "\n",
    "$$e_{w1B}^{corrected} = \\sqrt{ |{1 - ||\\mu_{\\perp} ||^2_2} |} * \\frac{e_{\\text{w1B}} - \\mu_B} {||(e_{w1} - \\mu_{\\perp}) - \\mu_B)||_2} \\tag{9}$$\n",
    "\n",
    "\n",
    "$$e_{w2B}^{corrected} = \\sqrt{ |{1 - ||\\mu_{\\perp} ||^2_2} |} * \\frac{e_{\\text{w2B}} - \\mu_B} {||(e_{w2} - \\mu_{\\perp}) - \\mu_B)||_2} \\tag{10}$$\n",
    "\n",
    "$$e_1 = e_{w1B}^{corrected} + \\mu_{\\perp} \\tag{11}$$\n",
    "$$e_2 = e_{w2B}^{corrected} + \\mu_{\\perp} \\tag{12}$$\n",
    "\n",
    "\n",
    "**You will need to:**\n",
    "\n",
    "- Implement the function below. \n",
    "- Use the equations above each in turn to get the final equalized version of the pair of words.\n",
    "\n",
    "Good luck!"
   ]
  },
  {
   "cell_type": "code",
   "execution_count": 21,
   "metadata": {},
   "outputs": [],
   "source": [
    "def equalize(pair, bias_axis, word_to_vec_map):\n",
    "    \"\"\"\n",
    "    Debias gender specific words by following the equalize method described in the figure above.\n",
    "    \n",
    "    Arguments:\n",
    "    pair -- pair of strings of gender specific words to debias, e.g. (\"actress\", \"actor\") \n",
    "    bias_axis -- numpy-array of shape (50,), vector corresponding to the bias axis, e.g. gender\n",
    "    word_to_vec_map -- dictionary mapping words to their corresponding vectors\n",
    "    \n",
    "    Returns\n",
    "    e_1 -- word vector corresponding to the first word\n",
    "    e_2 -- word vector corresponding to the second word\n",
    "    \"\"\"\n",
    "    \n",
    "    ### START CODE HERE ###\n",
    "    # Step 1: Select word vector representation of \"word\". Use word_to_vec_map. (≈ 2 lines)\n",
    "    w1, w2 = pair\n",
    "    e_w1 = word_to_vec_map[w1]\n",
    "    e_w2 = word_to_vec_map[w2]\n",
    "    \n",
    "    # Step 2: Compute the mean of e_w1 and e_w2 (≈ 1 line)\n",
    "    mu = (e_w1+e_w2)/2.0\n",
    "\n",
    "    # Step 3: Compute the projections of mu over the bias axis and the orthogonal axis (≈ 2 lines)\n",
    "    mu_B = np.dot(mu,bias_axis)*bias_axis/np.linalg.norm(bias_axis)**2\n",
    "    mu_orthogonal = mu - mu_B\n",
    "\n",
    "    # Step 4: Use equations (7) and (8) to compute e_w1B and e_w2B (≈2 lines)\n",
    "    e_w1B = np.dot(e_w1,bias_axis)*bias_axis/np.linalg.norm(bias_axis)**2\n",
    "    e_w2B = np.dot(e_w2,bias_axis)*bias_axis/np.linalg.norm(bias_axis)**2\n",
    "    \n",
    "    # Step 5: Adjust the Bias part of e_w1B and e_w2B using the formulas (9) and (10) given above (≈2 lines)\n",
    "    corrected_e_w1B = np.sqrt(abs(1-np.linalg.norm(mu_orthogonal)**2))*(e_w1B - mu_B)/np.linalg.norm((e_w1 - mu_orthogonal) - mu_B)\n",
    "    corrected_e_w2B = np.sqrt(abs(1-np.linalg.norm(mu_orthogonal)**2))*(e_w2B - mu_B)/np.linalg.norm((e_w2 - mu_orthogonal) - mu_B)\n",
    "    \n",
    "    # Step 6: Debias by equalizing e1 and e2 to the sum of their corrected projections (≈2 lines)\n",
    "    e1 = corrected_e_w1B + mu_orthogonal\n",
    "    e2 = corrected_e_w2B + mu_orthogonal\n",
    "                                                                 \n",
    "    ### END CODE HERE ###\n",
    "    \n",
    "    return e1, e2"
   ]
  },
  {
   "cell_type": "markdown",
   "metadata": {},
   "source": [
    "### 4.3.1 Testing your `equalize` Function\n",
    "\n",
    "Run the code below to test your equalise function.\n"
   ]
  },
  {
   "cell_type": "code",
   "execution_count": 22,
   "metadata": {
    "scrolled": true
   },
   "outputs": [
    {
     "name": "stdout",
     "output_type": "stream",
     "text": [
      "cosine similarities before equalizing:\n",
      "cosine_similarity(word_to_vec_map[\"man\"], gender) =  -0.1171109576533683\n",
      "cosine_similarity(word_to_vec_map[\"woman\"], gender) =  0.3566661884627037\n",
      "\n",
      "cosine similarities after equalizing:\n",
      "cosine_similarity(e1, gender) =  -0.7004364289309387\n",
      "cosine_similarity(e2, gender) =  0.7004364289309388\n"
     ]
    }
   ],
   "source": [
    "print(\"cosine similarities before equalizing:\")\n",
    "print(\"cosine_similarity(word_to_vec_map[\\\"man\\\"], gender) = \", cosine_similarity(word_to_vec_map[\"man\"], g))\n",
    "print(\"cosine_similarity(word_to_vec_map[\\\"woman\\\"], gender) = \", cosine_similarity(word_to_vec_map[\"woman\"], g))\n",
    "print()\n",
    "e1, e2 = equalize((\"man\", \"woman\"), g, word_to_vec_map)\n",
    "print(\"cosine similarities after equalizing:\")\n",
    "print(\"cosine_similarity(e1, gender) = \", cosine_similarity(e1, g))\n",
    "print(\"cosine_similarity(e2, gender) = \", cosine_similarity(e2, g))"
   ]
  },
  {
   "cell_type": "markdown",
   "metadata": {},
   "source": [
    "**Expected Output**:\n",
    "\n",
    "cosine similarities before equalizing:\n",
    "<table>\n",
    "    <tr>\n",
    "        <td>\n",
    "            **cosine_similarity(word_to_vec_map[\"man\"], gender)** =\n",
    "        </td>\n",
    "        <td>\n",
    "         -0.117110957653\n",
    "        </td>\n",
    "    </tr>\n",
    "        <tr>\n",
    "        <td>\n",
    "            **cosine_similarity(word_to_vec_map[\"woman\"], gender)** =\n",
    "        </td>\n",
    "        <td>\n",
    "         0.356666188463\n",
    "        </td>\n",
    "    </tr>\n",
    "</table>\n",
    "\n",
    "cosine similarities after equalizing:\n",
    "<table>\n",
    "    <tr>\n",
    "        <td>\n",
    "            **cosine_similarity(u1, gender)** =\n",
    "        </td>\n",
    "        <td>\n",
    "         -0.18798753406068716\n",
    "        </td>\n",
    "    </tr>\n",
    "        <tr>\n",
    "        <td>\n",
    "            **cosine_similarity(u2, gender)** =\n",
    "        </td>\n",
    "        <td>\n",
    "         0.18798753406068716\n",
    "        </td>\n",
    "    </tr>\n",
    "</table>"
   ]
  },
  {
   "cell_type": "markdown",
   "metadata": {},
   "source": [
    "# 5. Improving Gender Bias and Fairness\n",
    "\n",
    "These debiasing algorithms are very helpful for reducing bias, but are not perfect and do not eliminate all traces of bias. For example, one weakness of this implementation was that the bias direction $g$ was defined using only the pair of words _woman_ and _man_. As discussed earlier, if $g$ were defined by computing $g_1 = e_{woman} - e_{man}$; $g_2 = e_{mother} - e_{father}$; $g_3 = e_{girl} - e_{boy}$; and so on and averaging over them, you would obtain a better estimate of the \"gender\" direction in the 50 dimensional word embedding space. \n",
    "\n",
    "Using the word combinations that you discovered that pointed toward bais in the model re-run the word analogies on word vectors that have been de-biased using one of the two appropriate methods above.\n",
    "\n",
    "**You need to:**\n",
    "\n",
    "- implement the improved 'gender' direction by computing from an average of numerous word pairs $g_{av}$\n",
    "- de-bias word embeddings using improved $g_{av}$ to be used in your word analogies \n",
    " - Hint iterate over all words in the dictionary `word_to_vec_map` and apply the appropriate form of de-biasing\n",
    "- re-run your counter factual triads from section 3\n",
    "- re-run your word similarity with gender from section 4.1\n",
    "               "
   ]
  },
  {
   "cell_type": "code",
   "execution_count": 25,
   "metadata": {},
   "outputs": [],
   "source": [
    "### START CODE ###\n",
    "\n",
    "#Step 1: create imporved gender vector from averaging several gender pairs\n",
    "\n",
    "g = [\n",
    "     word_to_vec_map['woman'] - word_to_vec_map['man'],\n",
    "     word_to_vec_map['mother'] - word_to_vec_map['father'],\n",
    "     word_to_vec_map['girl'] - word_to_vec_map['boy'],\n",
    "     word_to_vec_map['female'] - word_to_vec_map['male'],\n",
    "     word_to_vec_map['queen'] - word_to_vec_map['king'],\n",
    "     word_to_vec_map['princess'] - word_to_vec_map['prince'],\n",
    "     word_to_vec_map['actress'] - word_to_vec_map['actor'],\n",
    "     word_to_vec_map['aunt'] - word_to_vec_map['uncle'],\n",
    "     word_to_vec_map['wife'] - word_to_vec_map['husband'],\n",
    "     word_to_vec_map['waitress'] - word_to_vec_map['waiter'],\n",
    "     word_to_vec_map['hen'] - word_to_vec_map['rooster'],\n",
    "     word_to_vec_map['mare'] - word_to_vec_map['stallion'],\n",
    "     word_to_vec_map['nun'] - word_to_vec_map['monk'],\n",
    "     word_to_vec_map['niece'] - word_to_vec_map['nephew'],\n",
    "     word_to_vec_map['mistress'] - word_to_vec_map['master'],\n",
    "     word_to_vec_map['spinster'] - word_to_vec_map['bachelor'],\n",
    "     word_to_vec_map['authoress'] - word_to_vec_map['author'],\n",
    "     word_to_vec_map['countess'] - word_to_vec_map['count'],\n",
    "     word_to_vec_map['mummy'] - word_to_vec_map['daddy'],\n",
    "     word_to_vec_map['duchess'] - word_to_vec_map['duke'],\n",
    "     word_to_vec_map['empress'] - word_to_vec_map['emperor'],\n",
    "     word_to_vec_map['mother-in-law'] - word_to_vec_map['father-in-law'],\n",
    "     word_to_vec_map['fiancee'] - word_to_vec_map['fiance'],\n",
    "     word_to_vec_map['lady'] - word_to_vec_map['gentleman'],\n",
    "     word_to_vec_map['manageress'] - word_to_vec_map['manager'],\n",
    "     word_to_vec_map['mrs'] - word_to_vec_map['mr'],\n",
    "     word_to_vec_map['mama'] - word_to_vec_map['papa'],\n",
    "     word_to_vec_map['step-daughter'] - word_to_vec_map['step-son'],\n",
    "     word_to_vec_map['madam'] - word_to_vec_map['sir'],\n",
    "     word_to_vec_map['witch'] - word_to_vec_map['wizard'],\n",
    "    ]\n",
    "\n",
    "\n",
    "\n",
    "g_avg = 0\n",
    "\n",
    "for i in range(len(g)):\n",
    "    g_avg += g[i]\n",
    "    \n",
    "g_avg = g_avg/30.0"
   ]
  },
  {
   "cell_type": "code",
   "execution_count": 30,
   "metadata": {},
   "outputs": [
    {
     "data": {
      "text/plain": [
       "(50,)"
      ]
     },
     "execution_count": 30,
     "metadata": {},
     "output_type": "execute_result"
    }
   ],
   "source": [
    "g_avg.shape"
   ]
  },
  {
   "cell_type": "code",
   "execution_count": 48,
   "metadata": {},
   "outputs": [
    {
     "name": "stdout",
     "output_type": "stream",
     "text": [
      "30\n"
     ]
    }
   ],
   "source": [
    "print(len(g))"
   ]
  },
  {
   "cell_type": "code",
   "execution_count": 24,
   "metadata": {},
   "outputs": [],
   "source": [
    "#### Exporting word contents to a txt file for checking.\n",
    "f = open(\"wordslist.txt\", \"a\")\n",
    "\n",
    "for each_word in words:\n",
    "    f.write(each_word + \"\\n\")\n",
    "\n",
    "f.close()"
   ]
  },
  {
   "cell_type": "code",
   "execution_count": 26,
   "metadata": {},
   "outputs": [],
   "source": [
    "#Step 2: debias word embeddings\n",
    "pairs= [\n",
    "         ['woman', 'man'],\n",
    "         ['mother', 'father'],\n",
    "         ['girl', 'boy'],\n",
    "         ['female', 'male'],\n",
    "         ['queen', 'king'],\n",
    "         ['princess', 'prince'],\n",
    "         ['actress', 'actor'],\n",
    "         ['aunt', 'uncle'],\n",
    "         ['wife', 'husband'],\n",
    "         ['waitress', 'waiter'],\n",
    "         ['hen', 'rooster'],\n",
    "         ['mare', 'stallion'],\n",
    "         ['nun', 'monk'],\n",
    "         ['niece', 'nephew'],\n",
    "         ['mistress', 'master'],\n",
    "         ['spinster', 'bachelor'],\n",
    "         ['authoress', 'author'],\n",
    "         ['countess', 'count'],\n",
    "         ['mummy', 'daddy'],\n",
    "         ['duchess', 'duke'],\n",
    "         ['empress', 'emperor'],\n",
    "         ['mother-in-law', 'father-in-law'],\n",
    "         ['fiancee', 'fiance'],\n",
    "         ['lady', 'gentleman'],\n",
    "         ['manageress', 'manager'],\n",
    "         ['mrs', 'mr'],\n",
    "         ['mama', 'papa'],\n",
    "         ['step-daughter', 'step-son'],\n",
    "         ['madam', 'sir'],\n",
    "         ['witch', 'wizard']\n",
    "    ]\n",
    "\n",
    "for each_word in words:\n",
    "    not_in_pair=True\n",
    "    for each_pair in pairs:\n",
    "        if each_word in each_pair:\n",
    "            not_in_pair=False\n",
    "            e1, e2 = equalize(each_pair, g_avg, word_to_vec_map)\n",
    "            if each_word == each_pair[0]:\n",
    "                word_to_vec_map[each_word] =  e1 \n",
    "            elif each_word == each_pair[1]:\n",
    "                word_to_vec_map[each_word] =  e2\n",
    "            break\n",
    "    if not_in_pair == True:\n",
    "        word_to_vec_map[each_word] = neutralize(each_word, g_avg, word_to_vec_map)"
   ]
  },
  {
   "cell_type": "code",
   "execution_count": 27,
   "metadata": {},
   "outputs": [
    {
     "name": "stdout",
     "output_type": "stream",
     "text": [
      "white -> boss :: black -> hitman\n",
      "women -> nurse :: man -> anesthetist\n",
      "woman -> teacher :: man -> father\n",
      "boy -> car :: girl -> woman\n",
      "rose -> flower :: smell -> arrestingly\n",
      "professional -> man :: woman -> husband\n",
      "black -> boss :: white -> allardyce\n",
      "man -> nurse :: woman -> duchess\n",
      "man -> teacher :: woman -> actress\n",
      "professional -> woman :: man -> mother\n",
      "girl -> animals :: boy -> emperor\n",
      "sea -> beach :: hills -> 732-390-4697\n",
      "old -> man :: young -> actor\n",
      "catholic -> cross :: christian -> diving\n",
      "man -> wife :: boy -> aunt\n",
      "woman -> doctor :: man -> boy\n"
     ]
    }
   ],
   "source": [
    "#Step 3: re-run word anlogies (counter factuals).\n",
    "\n",
    "triads_to_try = [('white', 'boss', 'black'), \n",
    "                 ('women', 'nurse', 'man'),\n",
    "                 ('woman', 'teacher', 'man'),\n",
    "                 ('boy','car','girl'),\n",
    "                 ('rose','flower','smell'),\n",
    "                 ('professional','man','woman'),\n",
    "                 ('black','boss','white'),\n",
    "                 ('man','nurse','woman'),\n",
    "                 ('man','teacher','woman'),\n",
    "                 ('professional','woman','man'),\n",
    "                 ('girl','animals','boy'),\n",
    "                 ('sea','beach','hills'),\n",
    "                 ('old','man','young'),\n",
    "                 ('catholic', 'cross','christian'),\n",
    "                 ('man', 'wife', 'boy'),\n",
    "                 ('woman', 'doctor', 'man')\n",
    "                ]\n",
    "\n",
    "\n",
    "for triad in triads_to_try:\n",
    "    print ('{} -> {} :: {} -> {}'.format( *triad, complete_analogy(*triad,word_to_vec_map)))"
   ]
  },
  {
   "cell_type": "code",
   "execution_count": 28,
   "metadata": {},
   "outputs": [
    {
     "name": "stdout",
     "output_type": "stream",
     "text": [
      "The similiarity for: john and g_avg is: 2.0063156605327212e-16\n",
      "The similiarity for: marie and g_avg is: -4.5234176424079536e-17\n",
      "The similiarity for: sophie and g_avg is: -9.69171611252696e-17\n",
      "The similiarity for: ronaldo and g_avg is: 4.181318003904499e-17\n",
      "The similiarity for: priya and g_avg is: -7.162166943547827e-17\n",
      "The similiarity for: rahul and g_avg is: 8.845402544153328e-17\n",
      "The similiarity for: danielle and g_avg is: -7.054793321743741e-17\n",
      "The similiarity for: reza and g_avg is: 1.053103528889766e-16\n",
      "The similiarity for: katy and g_avg is: -1.0701994002943117e-16\n",
      "The similiarity for: yasmin and g_avg is: -1.0091403735033275e-16\n",
      "The similiarity for: isabelle and g_avg is: -8.257111347937003e-17\n",
      "The similiarity for: andy and g_avg is: 5.1386664854716724e-17\n",
      "The similiarity for: grace and g_avg is: 1.361647856265636e-17\n",
      "The similiarity for: mike and g_avg is: 1.3683078806301856e-16\n",
      "The similiarity for: amal and g_avg is: 1.1345074889995876e-17\n",
      "The similiarity for: thomas and g_avg is: 1.0189630242773227e-16\n",
      "The similiarity for: lynette and g_avg is: -1.780107345778136e-16\n",
      "The similiarity for: matthew and g_avg is: 7.659288879188135e-17\n",
      "The similiarity for: chris and g_avg is: 1.263458512313376e-16\n",
      "Other words and their similarities:\n",
      "The similiarity for: lipstick and g_avg is: -1.879156180971072e-17\n",
      "The similiarity for: guns and g_avg is: 5.1082592956998436e-17\n",
      "The similiarity for: science and g_avg is: 9.155913672625542e-17\n",
      "The similiarity for: arts and g_avg is: 1.1561214601481638e-16\n",
      "The similiarity for: literature and g_avg is: 1.0334038360963575e-16\n",
      "The similiarity for: warrior and g_avg is: 3.720008432261649e-17\n",
      "The similiarity for: doctor and g_avg is: 0.0\n",
      "The similiarity for: tree and g_avg is: 0.0\n",
      "The similiarity for: receptionist and g_avg is: -4.42833382830755e-17\n",
      "The similiarity for: technology and g_avg is: 2.0740051956156352e-16\n",
      "The similiarity for: fashion and g_avg is: 2.840877287658876e-17\n",
      "The similiarity for: teacher and g_avg is: 3.302702445475599e-17\n",
      "The similiarity for: engineer and g_avg is: 1.6928582383337757e-16\n",
      "The similiarity for: pilot and g_avg is: 1.2068465414875114e-16\n",
      "The similiarity for: computer and g_avg is: 1.5910039148599244e-16\n",
      "The similiarity for: singer and g_avg is: -2.867401366066635e-17\n",
      "The similiarity for: book and g_avg is: 6.497311217306042e-17\n",
      "The similiarity for: car and g_avg is: 1.1670180160624774e-16\n",
      "The similiarity for: caring and g_avg is: -2.1904793043123087e-17\n",
      "The similiarity for: poker and g_avg is: 7.157858264540303e-17\n",
      "The similiarity for: racer and g_avg is: 2.968129591082118e-17\n",
      "The similiarity for: games and g_avg is: 7.77376575265637e-17\n",
      "The similiarity for: sun and g_avg is: 3.129423535194992e-17\n",
      "The similiarity for: rain and g_avg is: -1.9532757747284678e-17\n",
      "The similiarity for: nurse and g_avg is: -2.2373683308285557e-17\n",
      "The similiarity for: nun and g_avg is: 0.6810992152022465\n",
      "The similiarity for: football and g_avg is: 1.0912856827626628e-16\n",
      "The similiarity for: rugby and g_avg is: 9.173338011002452e-17\n",
      "The similiarity for: cricket and g_avg is: 0.0\n",
      "The similiarity for: netball and g_avg is: 5.606731291758662e-17\n",
      "The similiarity for: hockey and g_avg is: 8.089055379719912e-17\n",
      "The similiarity for: games and g_avg is: 7.77376575265637e-17\n",
      "The similiarity for: baseball and g_avg is: 1.5538426823194037e-16\n",
      "The similiarity for: soccer and g_avg is: 6.225015564484334e-17\n"
     ]
    }
   ],
   "source": [
    "# Step 4: re-run word-gender simlarities\n",
    "name_list = ['john', 'marie', 'sophie', 'ronaldo', 'priya', 'rahul', 'danielle', 'reza', 'katy', 'yasmin']\n",
    "\n",
    "#### START CODE ####\n",
    "for w in name_list:\n",
    "    sim = cosine_similarity(word_to_vec_map[w], g_avg)\n",
    "    print(\"The similiarity for:\", w, \"and g_avg is:\", sim)\n",
    "    \n",
    "new_list = ['isabelle', 'andy', 'grace', 'mike', 'amal', 'thomas', 'lynette', 'matthew', 'chris']\n",
    "\n",
    "for w in new_list:\n",
    "    sim = cosine_similarity(word_to_vec_map[w], g_avg)\n",
    "    print(\"The similiarity for:\", w, \"and g_avg is:\", sim)\n",
    "    \n",
    "print('Other words and their similarities:')\n",
    "word_list = ['lipstick', 'guns', 'science', 'arts', 'literature', 'warrior','doctor', 'tree', 'receptionist', \n",
    "             'technology',  'fashion', 'teacher', 'engineer', 'pilot', 'computer', 'singer']\n",
    "#### START CODE ####\n",
    "for w in word_list:\n",
    "    sim = cosine_similarity(word_to_vec_map[w], g_avg)\n",
    "    print(\"The similiarity for:\", w, \"and g_avg is:\", sim)\n",
    "#### END CODE ###\n",
    "\n",
    "#### START CODE ####\n",
    "\n",
    "word_list_2 = [\"book\",\"car\",'caring','poker','racer','games','sun','rain','nurse','nun']\n",
    "\n",
    "for w in word_list_2:\n",
    "    sim_2 = cosine_similarity(word_to_vec_map[w], g_avg)\n",
    "    print(\"The similiarity for:\", w, \"and g_avg is:\", sim_2)\n",
    "    \n",
    "    \n",
    "word_list_3 = ['football','rugby','cricket','netball','hockey','games','baseball','soccer']\n",
    "\n",
    "for w in word_list_3:\n",
    "    sim_3 = cosine_similarity(word_to_vec_map[w], g_avg)\n",
    "    print(\"The similiarity for:\", w, \"and g_avg is:\", sim_3)"
   ]
  },
  {
   "cell_type": "markdown",
   "metadata": {},
   "source": [
    "<h1> 6. Critical Analysis, Reflection & Discussion</h1>\n",
    "\n",
    "- What observations have you made when using for counter factuals for bias/fairness detection, specifically\n",
    "    - its ability to detect potential bias\n",
    "    - its ability to verify removal of bias\n",
    "- What considerations might you make to the design of the improved Gender bias Vector to maximise fairness in the debiasing algorithm.\n",
    "     - How do you think we should design the list of word pairs that generate $g_{av}$?\n",
    "- What evidence have you found that this approach to de-biasing word vectors is effective?\n",
    "- What are the limitations to this approach to de-biasing and why?\n",
    "    - Can you think of approaches and actions that can help mitigate any limitations\n",
    "- Think about and suggest an approach on how you might de-bias a non-linear model space."
   ]
  },
  {
   "cell_type": "markdown",
   "metadata": {},
   "source": [
    "- Observations that I have made in detecting potential bias are that the 'factuals' still relies on the human being in the loop and spotting it. Therefore if the person checking the factuals does not spot any bias or perceive any bias in the results, then the issue will persist. An example of this is white boss, black hitman or another one is woman teacher man graduate or man teacher woman undergraduate.\n",
    "\n",
    "- The factuals don't specify directly if the bias has been removed, but it will output any new values with its outputs when compared, therefore allowing the user to see if the bias has been removed. However, the process is still relying on a humans perception of the response. For example, girl -> animals :: boy -> emperor does still show a superiority to the gender.\n",
    "\n",
    "- I think a potential way to solve this issue is to have a predetermined list. This list should be openly available and agreed on to be used as a gender de-bias within the g average value and matching pair words for neutralisation. As the list generated for this lab was generated by my self while looking at the word list and trial and error from male/female linked word lists from the internet. Doing this might have led to some potential bias, but with the sheer amount of words in the list, it was also difficult to make sure I got all the correct values available. Additionally, what I class as fair is not what someone else might determine as fair, creating additional cross-examining issues.\n",
    "\n",
    "- The cosine similarities have been retried on the new gender average. The new results show that it has been effective as the values before debiasing were strongly linked to gender but now are closer to 0. However, there is still a tendency towards a gender but by a small amount.\n",
    "\n",
    "- This approach's limitations are that the user will need to figure out all the possible pairs within the word list first. However, it is easy to miss keywords or match pairs present within the dataset with the sheer number of words. Additionally, the users own personal bias could be added to the dataset set through the selection.\n",
    "\n",
    "- Again, a way to help mitigate limitation with bias is to have a predetermined list of matching words that should be openly available to users.\n",
    "\n",
    "- A possible way to help make sure how you might de-bias a non-linear model space is to make sure that the data selected is debiased/or as debiased as possible in the first place. Therefor making sure you are choosing suitable sources for the data gathers and not just sites like Reddit, for example.\n",
    "\n",
    "<!--how came up with list of pairs? How are they appropriate? Link to what was dicussed in session. I picked no determined prewords..... can lead ot my own bias being applied etc unintentially. -->"
   ]
  },
  {
   "cell_type": "code",
   "execution_count": null,
   "metadata": {},
   "outputs": [],
   "source": []
  }
 ],
 "metadata": {
  "coursera": {
   "course_slug": "nlp-sequence-models",
   "graded_item_id": "8hb5s",
   "launcher_item_id": "5NrJ6"
  },
  "kernelspec": {
   "display_name": "Python 3",
   "language": "python",
   "name": "python3"
  },
  "language_info": {
   "codemirror_mode": {
    "name": "ipython",
    "version": 3
   },
   "file_extension": ".py",
   "mimetype": "text/x-python",
   "name": "python",
   "nbconvert_exporter": "python",
   "pygments_lexer": "ipython3",
   "version": "3.7.4"
  }
 },
 "nbformat": 4,
 "nbformat_minor": 4
}
